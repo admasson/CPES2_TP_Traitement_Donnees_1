{
 "cells": [
  {
   "cell_type": "markdown",
   "id": "fc1e1fb3-10a3-474a-9c32-490bdd0e9848",
   "metadata": {
    "tags": []
   },
   "source": [
    "# **CPES 2 : TP7 - Traitement de données spectroscopiques**\n",
    "\n",
    "*Année 2022-2023*\n",
    "***"
   ]
  },
  {
   "cell_type": "markdown",
   "id": "b49af875-0e48-4c4c-9d9d-6aad6e478652",
   "metadata": {},
   "source": [
    "**Noms :**\n",
    "<br>\n",
    "<br>\n",
    "**Prénoms :**"
   ]
  },
  {
   "cell_type": "markdown",
   "id": "371f37a2-d53a-44ca-a486-f931ffc4ff15",
   "metadata": {},
   "source": [
    "\n",
    "Le but de la séance est d'aborder les différentes notions et étapes du traitement de données dans le cadre d'observations spectroscopiques, ainsi que l'analyse scientifique d'un spectre d'étoile et son interprétation.\n",
    "\n",
    "<font color='red'> **Ce notebook fait office de compte-rendu. Vous compléterez le code et rédigerez vos réponses directement dessus, afin de rendre un notebook par groupe à la fin de la séance.**\n",
    "\n",
    "**IMPORTANT :** Ne pas oublier de mettre vos noms dans le nom du fichier. Exemple : *TP7_CPES2_nom1_nom2.ipynb*\n",
    "    "
   ]
  },
  {
   "cell_type": "markdown",
   "id": "e87b0586-32e7-4286-a4c0-5da1bb36a881",
   "metadata": {
    "tags": []
   },
   "source": [
    "## **1 - Objectif**\n"
   ]
  },
  {
   "cell_type": "markdown",
   "id": "8abd288d-27ea-4dc3-a84e-fd22390da00e",
   "metadata": {
    "tags": []
   },
   "source": [
    "##### <font color='blue'> **Première utilisation du notebook : guide d'installation**"
   ]
  },
  {
   "cell_type": "markdown",
   "id": "3ea8a744-170d-4c1e-aac5-c2f150e82cc7",
   "metadata": {},
   "source": [
    "Pour télécharger ce notebook, aller à l'adresse suivante : https://share.obspm.fr/s/EERtZGFxrkEpkxR. Le lien contient une archive contenant le notebook et les données dont vous avez besoin.\n",
    "<br>\n",
    "Commencer par extraire l'archive dans *Documents* puis ouvrer un terminal avec Ctrl+Alt+T puis taper la commande suivante :\n",
    "<br>\n",
    "```\n",
    "$ cd Documents/TP7_CPES2/\n",
    "```"
   ]
  },
  {
   "cell_type": "markdown",
   "id": "c614ac3b-61fb-4041-b209-6d6a40944ee7",
   "metadata": {},
   "source": [
    "Pour que le notebook fonctionne correctement, celui-ci doit être lancé via **Jupyter Lab** via le terminal avec la commande :"
   ]
  },
  {
   "cell_type": "markdown",
   "id": "9ca40406-a48f-4468-af2b-ae5271af6317",
   "metadata": {},
   "source": [
    "```\n",
    "$ jupyter lab\n",
    "```"
   ]
  },
  {
   "cell_type": "markdown",
   "id": "ddfa8b75-231f-4797-9908-6d448b4f4dc1",
   "metadata": {
    "jp-MarkdownHeadingCollapsed": true,
    "tags": []
   },
   "source": [
    "Si un module est manquant, il peut également être installé via pip depuis le terminal avec :\n"
   ]
  },
  {
   "cell_type": "markdown",
   "id": "1c147564-cbd5-4dde-90cc-d602a29d7f8d",
   "metadata": {},
   "source": [
    "```\n",
    "$ pip install numpy\n",
    "```"
   ]
  },
  {
   "cell_type": "markdown",
   "id": "97429a63-e460-45cf-9a6d-2a791ffb6c59",
   "metadata": {},
   "source": [
    "***"
   ]
  },
  {
   "cell_type": "markdown",
   "id": "e245afa9-bd5a-4f6d-a9ca-b814946a8a74",
   "metadata": {
    "tags": []
   },
   "source": [
    "## **2 - Etalonnage précis des données spectroscopiques**\n"
   ]
  },
  {
   "cell_type": "markdown",
   "id": "c725b253-52f1-410f-bff5-92120042c1b3",
   "metadata": {},
   "source": [
    "La première étape avant d'analyser un spectre est de l'étalonner précisément, on parle également de \"réduction\" ou de \"traitement\" de données."
   ]
  },
  {
   "cell_type": "markdown",
   "id": "de2ba3d7-64c5-4f3b-92aa-7a53a280b6d8",
   "metadata": {
    "tags": []
   },
   "source": [
    "### **2.1 Rappel rapide du traitement de données**"
   ]
  },
  {
   "cell_type": "markdown",
   "id": "617d1c0a-826a-4c7e-b06b-f53864bcdd11",
   "metadata": {},
   "source": [
    "Quelques rappels sur le traitement de données que vous avez vu l'année dernière. La relation qui donne l'intensité finale enregistrée sur l'ordinateur en fonction du signal lumineux incident peut simplement être décrite par l'équation suivante :\n",
    "\n",
    "\\begin{equation}\n",
    "    \\label{eq_1} \\tag{1}\n",
    "    I_{mesure}(ADU)=T_{atmo} \\cdot T_{intrument} \\cdot Signal + biais + courant_{obscurite}(t)\n",
    "\\end{equation} \n",
    "\n",
    "\n",
    "Avec :\n",
    "- $I_{mesure}(ADU, Analog-to-Digital~Unit)$ la mesure finale numérisée que vous allez étudier dans ce TP.\n",
    "- $T_{atmo}$ le coefficient de transmission de l'atmosphère. Il ne s'applique que si le signal traverse l'atmosphère terrestre.\n",
    "- $T_{intrument}$ le coefficient de transmission de l'instrument : optique du télescope et du spectro, réponse de la camera, etc.\n",
    "- $Signal$ le signal lumineux en entrée de l'instrument (lumière provenant de l'étoile, luminosité du ciel, pollution lumineuse, etc).\n",
    "- $biais$ le niveau moyen qui est généralement introduit au niveau du détecteur (ici, la caméra) pour éviter les valeurs négatives en ADU.\n",
    "- $courant_{obscurite}(t)$ le courant d'obscurité de la caméra de détection. C'est un niveau moyen qui varie proportionnellement au temps de pose et qui augmente avec la température du détecteur.\n",
    "\n",
    "On appelle FLAT la mesure effectuée dans le but d'appliquer la correction du champ plat correspondant à l'instrument, et on parle de DARK pour décrire la mesure simultanée du courant d'obscurité et du biais de la caméra."
   ]
  },
  {
   "cell_type": "markdown",
   "id": "97374f17-b419-4322-8bca-24818079d6e2",
   "metadata": {
    "tags": []
   },
   "source": [
    "##### **Question 1 (1 pt) :**\n",
    "\n",
    "A partir de l'équation (1), quels sont les deux mesures que vous devez faire pour déterminer $T_{atmo}.T_{intrument}$ et $biais + courtant_{obscurite}(t)$ ? <br> Laquelle correspond au FLAT et laquelle correspond au DARK ?"
   ]
  },
  {
   "cell_type": "markdown",
   "id": "6020aa9a-08de-4239-9289-6a828775ff08",
   "metadata": {
    "tags": []
   },
   "source": [
    "> <font color='blue'> Répondre ici :\n"
   ]
  },
  {
   "cell_type": "markdown",
   "id": "bee48ab7-932b-4de8-b7d9-c8df33ac37bf",
   "metadata": {
    "tags": []
   },
   "source": [
    "##### **Question 2 (1 pt) :**\n",
    "Rappeler le principe et décrire la procédure d'acquisition du FLAT en imagerie."
   ]
  },
  {
   "cell_type": "markdown",
   "id": "6e6b95ff-4744-4d1f-b9f2-6e9d078801d5",
   "metadata": {
    "tags": []
   },
   "source": [
    "> <font color='blue'> Répondre ici :\n"
   ]
  },
  {
   "cell_type": "markdown",
   "id": "0f61ff6f-a046-44a7-8aca-e6c54afafcbe",
   "metadata": {
    "tags": []
   },
   "source": [
    "##### **Question 3 (1 pt) :**\n",
    "Pourquoi peut-on supposer que $T_{atmo}=1$ lorsque l'on enregistre le FLAT?"
   ]
  },
  {
   "cell_type": "markdown",
   "id": "697a32c2-fd59-4925-bb67-7f49ddf36aed",
   "metadata": {
    "tags": []
   },
   "source": [
    "> <font color='blue'> Répondre ici :\n"
   ]
  },
  {
   "cell_type": "markdown",
   "id": "c3672416-5649-4012-9a9a-164665ead012",
   "metadata": {
    "tags": []
   },
   "source": [
    "##### **Question 4 (1 pt):**\n",
    "Quelle est la particularité des FLATS en spectroscopie par rapport à l'imagerie ? Quelle information faut-il connaître sur la source utilisée pour enregistrer l'image de FLAT ?"
   ]
  },
  {
   "cell_type": "markdown",
   "id": "17953428-ae15-4a72-9c95-388ba90ab1ce",
   "metadata": {
    "tags": []
   },
   "source": [
    "> <font color='blue'> Répondre ici : "
   ]
  },
  {
   "cell_type": "markdown",
   "id": "3bd0f1b8-014d-4e33-a35c-a2601ef7be31",
   "metadata": {
    "tags": []
   },
   "source": [
    "##### **Question 5 (1 pt) :**\n",
    "On rappelle que le flat doit-être normalisé. Qu'est-ce que cela signifie, et pourquoi cela est-il important ?"
   ]
  },
  {
   "cell_type": "markdown",
   "id": "b0e04e1e-055c-43d4-a4e1-670854574dcf",
   "metadata": {
    "tags": []
   },
   "source": [
    "> <font color='blue'> Répondre ici : "
   ]
  },
  {
   "cell_type": "markdown",
   "id": "c22ae7f5-2041-4c0b-92b9-62ef122dc855",
   "metadata": {
    "tags": []
   },
   "source": [
    "##### **Question 6 (1 pt) :**\n",
    "Rappeler le principe et décrire la procédure d'acquisition du DARK."
   ]
  },
  {
   "cell_type": "markdown",
   "id": "47b58b68-2a6f-4c16-abd7-afe18fd58f8f",
   "metadata": {
    "tags": []
   },
   "source": [
    "> <font color='blue'> Répondre ici : "
   ]
  },
  {
   "cell_type": "markdown",
   "id": "645d5a7a-66c0-4ed8-9fbe-5149c016e4ab",
   "metadata": {
    "tags": []
   },
   "source": [
    "##### **Question 7 (1 pt) :**\n",
    "Qu'est qu'un FOND DE CIEL (aussi appelé SKY) et qu'est ce qui le différencie d'un DARK ?"
   ]
  },
  {
   "cell_type": "markdown",
   "id": "9bccfe68-85f3-4a12-9dc2-668eedcb8784",
   "metadata": {
    "tags": []
   },
   "source": [
    "> <font color='blue'> Répondre ici : "
   ]
  },
  {
   "cell_type": "markdown",
   "id": "4503eff9-a9fa-48c8-a4d9-bff07860e5af",
   "metadata": {
    "tags": []
   },
   "source": [
    "##### **Question 8 (1 pt) :**\n",
    "Au cours de l'observation, quand doit-on enregistrer les FLATS, les DARKS et les FONDS DE CIEL ?"
   ]
  },
  {
   "cell_type": "markdown",
   "id": "91af3484-349a-4a1b-82a4-3e677b9903e4",
   "metadata": {
    "tags": []
   },
   "source": [
    "> <font color='blue'> Répondre ici : "
   ]
  },
  {
   "cell_type": "markdown",
   "id": "21101a02-df2b-47c5-846b-e8863ff20002",
   "metadata": {},
   "source": [
    "Au cours de la séance d'observation, on réalise plusieurs séries de FLATS et de DARKS/FONDS DE CIEL. Cela permet de faire des moyennes appelées \"master flat\" et \"master dark/fond de ciel\"). Cela permet également d'éliminer certains FLATS ou DARKS/FONDS DE CIEL qui ne sont pas satisfaisant."
   ]
  },
  {
   "cell_type": "markdown",
   "id": "b9b4a7be-7b7d-4109-81a8-6c9c414be367",
   "metadata": {
    "tags": []
   },
   "source": [
    "##### **Question 9 (1 pt) :**\n",
    "Décrire le traitement des données que vous allez faire pour déterminer  $T_{intrument}$.\n",
    "<br>\n",
    "**Faire valider la formule par un encadrant avant de passer à la suite.**"
   ]
  },
  {
   "cell_type": "markdown",
   "id": "1ab2bb19-1565-4847-a393-15ac298385bb",
   "metadata": {
    "tags": []
   },
   "source": [
    "> <font color='blue'> Répondre ici : "
   ]
  },
  {
   "cell_type": "markdown",
   "id": "ddaba493-3bd5-43eb-8d2b-fee57de469d2",
   "metadata": {
    "tags": []
   },
   "source": [
    "##### **Question 10 (1 pt) :**\n",
    "Proposer des solutions pour déterminer $T_{atmo}$."
   ]
  },
  {
   "cell_type": "markdown",
   "id": "b013111c-c7cf-4af5-8e0c-f4d5af7f92da",
   "metadata": {
    "tags": []
   },
   "source": [
    "> <font color='blue'> Répondre ici : "
   ]
  },
  {
   "cell_type": "markdown",
   "id": "aa9a4eac-1a19-45d6-9260-a8d59ddf7045",
   "metadata": {
    "tags": []
   },
   "source": [
    "### **2.2 Application aux données du TP**"
   ]
  },
  {
   "cell_type": "markdown",
   "id": "d749d8e0-6ea1-4eac-b316-311096cd86ca",
   "metadata": {},
   "source": [
    "Nous allons maintenant appliquer ces principes pour réduire un spectre d'une étoile. Nous allons pour cela utiliser différentes librairies python permettant d'ouvrir des données astronomiques, de les manipuler et de les visualiser. Les données brutes ainsi que les fichiers d'étalonnage se trouvent dans le dossier \"Exercice1\"."
   ]
  },
  {
   "cell_type": "markdown",
   "id": "d1d25dec-4784-4ee5-be71-7a08f9669136",
   "metadata": {
    "tags": []
   },
   "source": [
    "#### **2.2.1 Chargement des données**"
   ]
  },
  {
   "cell_type": "markdown",
   "id": "5ca6f45e-b2cd-471b-a2cc-78a905d3af04",
   "metadata": {},
   "source": [
    "Dans cette sous-partie nous allons nous intéresser aux DARKS et au FONDS DE CIEL, ainsi qu'à la façon dont on obtient un master DARK."
   ]
  },
  {
   "cell_type": "markdown",
   "id": "450773c5-7532-4769-8e76-b912ea7b5c59",
   "metadata": {},
   "source": [
    "***"
   ]
  },
  {
   "cell_type": "markdown",
   "id": "b85d1c75-05d8-41b9-8765-d6df76a17e0f",
   "metadata": {},
   "source": [
    "La première étape consiste à charger les différents modules python dont nous aurons besoin tout au long de ce TP :\n",
    "- *os* (https://docs.python.org/3/library/os.html) dispose d'outils pour naviguer dans le système et lister les fichiers d'un dossier de l'ordinateur\n",
    "- *numpy* (https://numpy.org/doc/stable/) permet de manipuler des tableaux de données à plusieurs dimensions et d'effectuer toute sorte d'opérations (sommes, multiplications matricielles, moyennes...)\n",
    "- *matplotib* (https://matplotlib.org/stable/index.html) offre un large panel d'outils permettant de visualiser les données et de produire des graphiques\n",
    "- *astropy* (https://docs.astropy.org/en/stable/index.html) est une librairie dédiée à l'astronomie et l'astrophysique et contient une multitude d'outils pratiques pour la traitement des données. Nous utilisons surtout ici la fonction de lecture des fichiers au format FITS.\n",
    "- *scipy* (https://docs.scipy.org/doc/scipy/) est une librairie (basée sur numpy) qui contient un large éventail de fonctions mathématique.\n",
    "\n",
    "Note : ne pas hésiter à consulter la documentation de ces différents modules en cas de besoin. De nombreux exemples d'utilisation y sont présentés."
   ]
  },
  {
   "cell_type": "code",
   "execution_count": null,
   "id": "0503b5d6-77b0-4dc0-aec9-01738aa9f3e1",
   "metadata": {},
   "outputs": [],
   "source": [
    "# Importation des modules\n",
    "import os\n",
    "import numpy as np               # on peut renommer un module avec une variable plus courte avec le mot clé \"as\"\n",
    "import matplotlib.pyplot as plt  \n",
    "\n",
    "from astropy.io import fits      # \"from\" permet de ne charger que le sous-module \"fits\" de la librairie \"astropy\" afin de ne pas encombrer inutilement la mémoire\n",
    "from scipy import interpolate    # On importe les fonctions d'interpolation du module scipy\n",
    "\n",
    "# commande \"%magic\" pour utiliser le backend \"widget\" de matplotlib permettant d'avoir les outils interactifs (tels que le zoom) sur les figures\n",
    "# Cette ligne peut être commentée en cas d'erreur lors de l'affichage des graphes de matplotlib.\n",
    "%matplotlib widget               "
   ]
  },
  {
   "cell_type": "markdown",
   "id": "03f70ce5-13d5-4867-8185-fc1b18d6ca5f",
   "metadata": {},
   "source": [
    "Dans Jupyter Lab, une commande très utile est le **?** : placé derrière une commande, il permet d'accéder rapidement à sa documentation pour savoir comment l'utiliser. Exemple avec la fonction *print( )* :"
   ]
  },
  {
   "cell_type": "code",
   "execution_count": null,
   "id": "7b280269-cee3-42ae-a86a-62e12caae512",
   "metadata": {},
   "outputs": [],
   "source": [
    "print?"
   ]
  },
  {
   "cell_type": "markdown",
   "id": "fa0f3180-be41-40b2-80c1-ea3fb4ff0bb3",
   "metadata": {},
   "source": [
    "<br>Il suffit donc de créer une nouvelle cellule, et d'écrire le nom de la fonction en remplaçant les parenthèses **( )** par le point d'interrogation **?** pour obtenir des informations sur l'utilisation de la fonction."
   ]
  },
  {
   "cell_type": "markdown",
   "id": "f73db1a7-6413-4209-8548-4388aa410869",
   "metadata": {},
   "source": [
    "***"
   ]
  },
  {
   "cell_type": "markdown",
   "id": "f172e6eb-ba02-4feb-a7ef-74829263b1f3",
   "metadata": {},
   "source": [
    "Nous allons maintenant charger les données au format \"FITS\" à l'aide du module astropy.io.fits (que nous avons renommé \"fits\" pour plus de simplicité).\n",
    "Commençons par vérifier que nos fichiers de données se trouvent bien à l'endroit attendu : la commande \"os.listdir(*path*)\" permet d'obtenir la liste de fichiers présents dans le répertoire indiqué par la variable *path*, et la commande \"print(*text*)\" permet d'afficher le *text* indiqué."
   ]
  },
  {
   "cell_type": "code",
   "execution_count": null,
   "id": "fbf0aa45-e48b-4e3a-ac4e-ec13a92ae3a1",
   "metadata": {},
   "outputs": [],
   "source": [
    "path = './Data_TP7_CPES2/Exercice1/'\n",
    "file_list = os.listdir(path)\n",
    "print(file_list)"
   ]
  },
  {
   "cell_type": "markdown",
   "id": "50d161a7-fe22-409e-96da-aa7a4416b4cb",
   "metadata": {},
   "source": [
    "<br>Nous avons maintenant stocké la liste de fichiers présents dans le répertoire \"Exercice1\" dans notre variable \"file_list\". Nous allons pouvoir parcourir cette liste avec une boucle \"for\" afin de charger ces fichiers dans le code."
   ]
  },
  {
   "cell_type": "code",
   "execution_count": null,
   "id": "873f8868-ba4e-4e89-bb94-110cd3f4eec5",
   "metadata": {},
   "outputs": [],
   "source": [
    "loaded_files = {}\n",
    "\n",
    "for file_name in file_list:\n",
    "    try:\n",
    "        current_fits = fits.open(path+file_name)[0] # fits.open() renvoie une liste de tableaux de données (appelés \"HDU\") contenus dans le fichier FITS. Ici nos fichiers ne contiennent qu'un seul HDU, que l'on sélectionne avec l'indice [0]\n",
    "        loaded_files[file_name] = current_fits      # on stocke ici le fichier .fits chargé dans un dictionnaire afin d'y accéder plus facilement par la suite en utilisant le nom du fichier d'origine\n",
    "        print(f'{file_name:<80} has been loaded !')\n",
    "    except Exception as e:                          # En cas d'echec de chargement du fichier, la structure try:... except:... permet d'empêcher au code de planter en affichant l'erreur et en passant au fichier suivant (par exemple si le fichier n'est pas au format .fits)\n",
    "        print(f'Can\\'t load {file_name:<69} {e}')"
   ]
  },
  {
   "cell_type": "markdown",
   "id": "f3abda37-fa5e-465a-95f4-a578f0f932db",
   "metadata": {},
   "source": [
    "<br>\n",
    "Tous les fichiers 'FITS' contenus dans le dossier 'Exercice1' ont été chargés et stockés dans le dictionnaire \"loaded_files\". Un dictionnaire permet de stocker différentes 'valeurs' et d'y accéder grâce à la 'clé' sous laquelle la valeur a été enregistrée. Par exemple, considerons le dictionnaire suivant :\n"
   ]
  },
  {
   "cell_type": "markdown",
   "id": "ff0b0c42-3a17-4a8c-863c-d814ec41cc40",
   "metadata": {},
   "source": [
    "```python\n",
    "dico = {\n",
    "    'key_1' : 42,\n",
    "    'key_2' : aze,\n",
    "    'key_3' : jpp\n",
    "}\n",
    "```"
   ]
  },
  {
   "cell_type": "markdown",
   "id": "2b413105-9572-4f7f-b8f4-47d31382148b",
   "metadata": {},
   "source": [
    "La valeur \"42\" a été stockée via la clé 'key_1'. On peut donc accéder à cette valeur via la commande suivante :"
   ]
  },
  {
   "cell_type": "markdown",
   "id": "843ee418-acbf-4c2a-83a5-fba5390eeab1",
   "metadata": {},
   "source": [
    "```python\n",
    "print(dico['key_1'])\n",
    "42\n",
    "```"
   ]
  },
  {
   "cell_type": "markdown",
   "id": "da83e912-e5f5-4182-b321-ac181f28b85b",
   "metadata": {},
   "source": [
    "Qui affichera donc le contenu du dictionnaire \"dico\" correspondant à la clé 'key_1', c'est-à-dire 42. Dans notre cas, les fichiers ont tous été chargés dans un dictionnaire \"loaded_files\" avec pour chacun une clé correspondant au nom du fichier. On accédera donc par exemple aux données du fichier \"dark_20s_1.fits\" par la commande :"
   ]
  },
  {
   "cell_type": "code",
   "execution_count": null,
   "id": "bb359ac5-355d-41bb-b0be-65d47351defe",
   "metadata": {},
   "outputs": [],
   "source": [
    "file = loaded_files['dark_20s_1.fits']\n",
    "print(file)"
   ]
  },
  {
   "cell_type": "markdown",
   "id": "e036f190-bfc9-4653-86f0-b485362f37f0",
   "metadata": {},
   "source": [
    "<br>\n",
    "On voit ici que \"loaded_files['dark_20s_1.fits']\" permet bien d'accéder à un objet de type \"astropy.io.fits\", c'est-à-dire un fichier FITS chargé dans le code python et que nous pouvons maintenant manipuler avec tous les outils python habituels. On pourra par exemple accéder aux données du fichier fits grâce à l'attribut '.data', qui renvoie les données du fichier FITS dans un tableau de données numpy :"
   ]
  },
  {
   "cell_type": "code",
   "execution_count": null,
   "id": "7ee64de1-01cc-4cc5-8ff9-3cf5fde93c97",
   "metadata": {},
   "outputs": [],
   "source": [
    "file = loaded_files['dark_20s_1.fits']\n",
    "print(file.data)"
   ]
  },
  {
   "cell_type": "markdown",
   "id": "4975c057-7dbb-47da-99d6-7ca72768bf31",
   "metadata": {},
   "source": [
    "<br>On peut alors utiliser le module *matplotlib.pyplot* (renommé ici *plt*) afin d'afficher ces données sur un graphique :"
   ]
  },
  {
   "cell_type": "code",
   "execution_count": null,
   "id": "a834522a-edc9-4f97-ab7e-4e91be926cfa",
   "metadata": {},
   "outputs": [],
   "source": [
    "file = loaded_files['dark_20s_1.fits']\n",
    "plt.figure()\n",
    "plt.plot(file.data)"
   ]
  },
  {
   "cell_type": "markdown",
   "id": "03e1a560-2c21-4d61-a98a-94fdb2c33638",
   "metadata": {},
   "source": [
    "Le format FITS est un format très utilisé pour les images en astrophysique. Il est également pratique pour d'autres types de données tels que les spectres. Il permet de stocker des métadonnées concernant les images dans ce qu'on appelle le \"header\" (entête) du FITS. On accède ici au header d'un fichier FITS grâce à l'attribut '.header' :"
   ]
  },
  {
   "cell_type": "code",
   "execution_count": null,
   "id": "0ecd468a-0825-45cd-aa5e-cdc685d0494a",
   "metadata": {
    "tags": []
   },
   "outputs": [],
   "source": [
    "file = loaded_files['dark_20s_1.fits']\n",
    "file.header"
   ]
  },
  {
   "cell_type": "markdown",
   "id": "4a5ea770-9c85-4c7b-92a2-ea5626908aec",
   "metadata": {},
   "source": [
    "<br> Le header d'un fichier FITS est également donné sous la forme d'un dictionnaire. Dans ce cas, le format d'affichage est de la forme \"Key = Value\" : par exemple dans notre cas, le temps de pose (en ms) correspond à la clé \"EXP (MS)\". On accède donc au temps de pose utilisé pour le fichier \"dark_20s_1.fits\" avec la commande : "
   ]
  },
  {
   "cell_type": "code",
   "execution_count": null,
   "id": "fb0ea36b-2790-454c-a779-dd4c04cf79c3",
   "metadata": {},
   "outputs": [],
   "source": [
    "file = loaded_files['dark_20s_1.fits']\n",
    "print(file.header['EXP (MS)'])"
   ]
  },
  {
   "cell_type": "markdown",
   "id": "4965a4fd-acad-4ec2-a06f-c2c22ecfd70c",
   "metadata": {},
   "source": [
    "<br> Pour accéder aux données ou header des autres fichiers, il suffit donc de changer le nom du fichier entre [ ] après loaded_files."
   ]
  },
  {
   "cell_type": "markdown",
   "id": "3fdb843f-443b-4fe9-a190-eb44d2828cdf",
   "metadata": {
    "tags": []
   },
   "source": [
    "#### **2.2.2 Construction du spectre de dark maître ou \"MASTER DARK\"**"
   ]
  },
  {
   "cell_type": "markdown",
   "id": "d92b60b4-cc7d-4538-ad0d-b2096ead7a0e",
   "metadata": {},
   "source": [
    "Dans cette sous-partie nous allons nous intéresser aux DARKS et aux FONDS DE CIEL, ainsi qu'à la façon dont on obtient un MASTER DARK."
   ]
  },
  {
   "cell_type": "markdown",
   "id": "b8f19b55-8313-4e04-ba4f-e9dbfcb21a8a",
   "metadata": {
    "tags": []
   },
   "source": [
    "##### **Question 11 (1 pt) :**\n",
    "Compléter le code suivant afin d'afficher les temps de pose appliqués à chacun des différents fichiers, et vérifier qu'ils correspondent bien à la valeur indiquée dans le nom du fichier."
   ]
  },
  {
   "cell_type": "code",
   "execution_count": null,
   "id": "239cb2d1-722f-46ac-97f7-17509cba4e06",
   "metadata": {},
   "outputs": [],
   "source": [
    "# CODE A COMPLETER\n",
    "for name,file in loaded_files.items():\n",
    "    temps_pose =  # ligne à completer\n",
    "    print(f'Temps de pose de {name:<60} : {temps_pose} ms')"
   ]
  },
  {
   "cell_type": "markdown",
   "id": "adc47a51-c62f-4eb8-be42-d10c032e0bda",
   "metadata": {
    "tags": []
   },
   "source": [
    "> <font color='blue'> Répondre ici : "
   ]
  },
  {
   "cell_type": "markdown",
   "id": "bbe88137-3145-4cc1-a29e-d9b4cccce389",
   "metadata": {},
   "source": [
    "<br> <font color='red'> Attention : une fois le fichier renommé (et de même pour toute opération sur les fichiers), il faudra relancer le notebook en entier pour recharger toutes les données correctement en appuyant sur le bouton *Restart Kernel and Run all Cells...* (double flèche vers la droite)."
   ]
  },
  {
   "cell_type": "markdown",
   "id": "be0f9092-ad34-48cb-89b3-4f1a51daa8db",
   "metadata": {
    "tags": []
   },
   "source": [
    "##### **Question 12 (1 pt) :**\n",
    "Compléter le code suivant afin d'afficher pour chaque fichier la température de la caméra en (°C) (**Tempx10** est la température en degrés Celsius multipliée par 10). La température est-elle la même pour tous les darks effectués? Pourquoi la caméra est-elle refroidie?"
   ]
  },
  {
   "cell_type": "code",
   "execution_count": null,
   "id": "0487dd17-fe3b-4a3b-aafa-767c2977b567",
   "metadata": {},
   "outputs": [],
   "source": [
    "# CODE A COMPLETER\n",
    "for name,file in loaded_files.items():\n",
    "    temperature =  # ligne à completer\n",
    "    print(f'Température de la caméra pour {name:<60} : {temperature} °C')"
   ]
  },
  {
   "cell_type": "markdown",
   "id": "57aa1251-9182-4934-b444-a9ade165b0e7",
   "metadata": {
    "tags": []
   },
   "source": [
    "> <font color='blue'> Répondre ici : "
   ]
  },
  {
   "cell_type": "markdown",
   "id": "395f58a4-aede-4bda-8fa8-8ede12c49674",
   "metadata": {
    "tags": []
   },
   "source": [
    "##### **Question 13 (1 pt) :**\n",
    "Compléter le code suivant afin d'afficher tous les fichiers dark sur un même graphique. Décrire les darks et les différences qu'il y a entre eux. Quelles sont les raisons de ces différences ?"
   ]
  },
  {
   "cell_type": "code",
   "execution_count": null,
   "id": "a60b5ba5-4ce0-4a60-9384-a4344a6f2b25",
   "metadata": {},
   "outputs": [],
   "source": [
    "# CODE A COMPLETER\n",
    "plt.figure()\n",
    "for name,file in loaded_files.items():\n",
    "    if 'dark' in  name: # on ne sélectionne que les fichiers contenant \"dark\" dans leur nom\n",
    "        spectre =  # ligne à completer\n",
    "        plt.plot(spectre,label=name)\n",
    "    else:\n",
    "        pass\n",
    "    \n",
    "plt.title('Comparaison des darks')\n",
    "plt.ylabel('Flux (ADU)')\n",
    "plt.xlabel('pixel')\n",
    "plt.legend()"
   ]
  },
  {
   "cell_type": "markdown",
   "id": "51b22313-dc9e-4de1-8d0f-31708a896d49",
   "metadata": {
    "tags": []
   },
   "source": [
    "> <font color='blue'> Répondre ici : "
   ]
  },
  {
   "cell_type": "markdown",
   "id": "402f46dc-92d1-48ab-860f-881e32108171",
   "metadata": {
    "tags": []
   },
   "source": [
    "##### **Question 14 (3 pts) :**\n",
    "Nous allons réaliser un dark moyen de 1 seconde. Pour cela, nous avons vu comment accéder aux données d'un fichier FITS à partir de notre dictionnaire *loaded_files* en utilisant le nom du fichier et l'attribut \".data\":"
   ]
  },
  {
   "cell_type": "markdown",
   "id": "0a8125d3-5e1b-4ae2-b98f-f0de1f4fa7b5",
   "metadata": {},
   "source": [
    "```python\n",
    "    data_1 = loaded_files[\"fichier_1.fits\"].data\n",
    "    data_2 = loaded_files[\"fichier_2.fits\"].data\n",
    "``` "
   ]
  },
  {
   "cell_type": "markdown",
   "id": "67b95934-2d1d-4ab7-a9cc-ae2236d0b080",
   "metadata": {},
   "source": [
    "On récupère alors dans *data_1* et *data_2* les données des fichiers \"fichier_1.fits\" et \"fichier_2.fits\". *data_1* et *data_2* sont des tableaux de données au format *numpy*, ce qui permet d'effectuer très simplement tout un tas d'opérations entre ces deux jeux de données. Par exemple pour calculer leur moyenne, il suffit de faire :"
   ]
  },
  {
   "cell_type": "markdown",
   "id": "7a4bee8c-fd35-489c-94f5-f2f1d0f89c60",
   "metadata": {},
   "source": [
    "```python\n",
    "data_moy = (data_1 + data_2) / 2\n",
    "```"
   ]
  },
  {
   "cell_type": "markdown",
   "id": "4015d49d-4892-40a2-94ae-242c7708f873",
   "metadata": {},
   "source": [
    "De manière plus élégante et surtout plus rapide, on peut utiliser les fonctions numpy (le gain de temps quand il y a beaucoup de données peut être très important) :"
   ]
  },
  {
   "cell_type": "markdown",
   "id": "3083b926-b71f-45a1-9528-6404ad71aa94",
   "metadata": {},
   "source": [
    "```python\n",
    "data_array = np.array([data_1, data_2]) # data_array est un tableau 2D, le premier indice/axis correspond à un sous tableau (data_array[0] contient data_1) \n",
    "data_moy   = np.mean(data_array, axis=0) # on laisse numpy calculer la moyenne, en précisant de ne la faire que sur les \"lignes\" du gros tableau data_array (avec axis=0) càd en sommant les dark entre eux\n",
    "```"
   ]
  },
  {
   "cell_type": "markdown",
   "id": "affd6ea8-51eb-41b3-8c49-b724ca7371df",
   "metadata": {},
   "source": [
    "**En s'inspirant de cet exemple, écrire un code ci-dessous pour calculer un dark moyen de 1 seconde. Vous nommerez la variable du dark moyen \"master_dark_1s\".**"
   ]
  },
  {
   "cell_type": "code",
   "execution_count": null,
   "id": "b97aa014-4bd0-4656-a235-8b4fce18da5f",
   "metadata": {},
   "outputs": [],
   "source": [
    "# CODE A COMPLETER\n"
   ]
  },
  {
   "cell_type": "markdown",
   "id": "b65e2775-676c-4366-ad8b-9d495686b3e4",
   "metadata": {},
   "source": [
    "On enregistre ensuite le master_dark_1s afin de pouvoir le réutiliser plus tard. Ceci est fait grâce à la fonction np.save(*name*,a), qui sauvegarde un tableau *numpy* \"a\" sous le nom \"name\" indiqué. Complétez le code ci-dessous en entrant vos noms et prénoms dans le nom du fichier et executez la cellule pour sauvegarder votre master_dark_1s :"
   ]
  },
  {
   "cell_type": "code",
   "execution_count": null,
   "id": "a399da7e-7918-4bac-bc27-753f2ff5a163",
   "metadata": {},
   "outputs": [],
   "source": [
    "# CODE A COMPLETER\n",
    "name =  # ligne à modifier\n",
    "np.savetxt(name,master_dark_1s)\n",
    "print(f'{name} a bien été sauvegardé !')"
   ]
  },
  {
   "cell_type": "markdown",
   "id": "350e2292-3a12-4de9-bef1-2ad7ab07080c",
   "metadata": {},
   "source": [
    "**De même, écrire un code ci-dessous permettant de calculer et d'enregistrer un dark moyen de 20 secondes et un fond de ciel moyen. Vous nommerez les variables respectivement \"master_dark_20s\" et \"master_fond_ciel_20s\", et les enregistrerez sous la forme \"nom_prenom_exo1_MASTER_DARK_20s.dat\" et \"nom_prenom_exo1_MASTER_FOND_DE_CIEL_20s.dat\"**"
   ]
  },
  {
   "cell_type": "code",
   "execution_count": null,
   "id": "0855d6ab-5658-403c-84f9-9d2d710dff42",
   "metadata": {},
   "outputs": [],
   "source": [
    "[name for name in file_list if 'fond' in name]"
   ]
  },
  {
   "cell_type": "code",
   "execution_count": null,
   "id": "eae1d974-189f-453b-9eeb-51fa9ac1e4f6",
   "metadata": {},
   "outputs": [],
   "source": [
    "# CODE A COMPLETER : calculer le master_dark_20s\n"
   ]
  },
  {
   "cell_type": "code",
   "execution_count": null,
   "id": "26d333e6-6aa7-4a14-8a67-8a829326ec0a",
   "metadata": {},
   "outputs": [],
   "source": [
    "# CODE A COMPLETER : enregistrer le master_dark_20s sous le nom \"nom_prenom_exo1_MASTER_DARK_20s.dat\"\n",
    "\n",
    "name = \n",
    "np.savetxt(name,master_dark_20s)\n",
    "print(f'{name} a bien été sauvegardé !')"
   ]
  },
  {
   "cell_type": "code",
   "execution_count": null,
   "id": "4964b217-5f64-48b8-b708-da3d7c111234",
   "metadata": {},
   "outputs": [],
   "source": [
    "# CODE A COMPLETER : calculer le master_fond_ciel\n"
   ]
  },
  {
   "cell_type": "code",
   "execution_count": null,
   "id": "d46750c0-ccee-448a-b39a-e1d9c80d681c",
   "metadata": {},
   "outputs": [],
   "source": [
    "# CODE A COMPLETER : enregistrer le master_fond_ciel sous le nom \"nom_prenom_exo1_MASTER_FOND_DE_CIEL.dat\"\n",
    "\n",
    "name = \n",
    "np.savetxt(name,master_dark_20s)\n",
    "print(f'{name} a bien été sauvegardé !')"
   ]
  },
  {
   "cell_type": "markdown",
   "id": "b82d9fff-eb19-4efa-b12d-ab1dbcbb444e",
   "metadata": {},
   "source": [
    "**La cellule ci-dessous permet de comparer les master dark de 1s et 20s. Décrire ces deux master darks : y-a-t-il des variations ?**"
   ]
  },
  {
   "cell_type": "code",
   "execution_count": null,
   "id": "b12474bd-319b-4fa1-acc9-471c07042145",
   "metadata": {},
   "outputs": [],
   "source": [
    "plt.figure()                                      # Créer une figure vide\n",
    "plt.plot(master_dark_1s,label='master_dark_1s')   # Trace la courbe master_dark_1s en fonction des pixels\n",
    "plt.plot(master_dark_20s,label='master_dark_20s') # Trace la courbe master_dark_20s en fonction des pixels\n",
    "plt.ylabel('Flux (ADU)')                          # Ajoute le label \"Flux\" sur l'axe 'y' \n",
    "plt.xlabel('pixel')                               # Ajoute le label \"pixel\" sur l'axe 'x' \n",
    "plt.title('Comparaison des master dark')          # Ajoute un titre à la figure\n",
    "plt.legend()                                      # Affiche la legende avec le code coleur des courbes"
   ]
  },
  {
   "cell_type": "markdown",
   "id": "685d0913-e323-457d-8903-d34939709ae6",
   "metadata": {
    "tags": []
   },
   "source": [
    "> <font color='blue'> Répondre ici : "
   ]
  },
  {
   "cell_type": "markdown",
   "id": "87b3c104-d36f-425c-82b4-dbffa508be2b",
   "metadata": {
    "tags": []
   },
   "source": [
    "##### **Question 15 (1 pt) :**\n",
    "Comparer le master dark de 20 secondes avec un dark simple de 20 secondes, quels sont les différences ? Pourquoi ?\n",
    "<br>\n",
    "Vous pourrez faire la comparaison avec plusieurs dark simple de 20 secondes."
   ]
  },
  {
   "cell_type": "code",
   "execution_count": null,
   "id": "a74ba420-c2a0-4417-8569-16f1523e3eae",
   "metadata": {},
   "outputs": [],
   "source": [
    "# CODE A COMPLETER : afficher sur une même figure le master_dark_20s et un dark_20s_x\n"
   ]
  },
  {
   "cell_type": "markdown",
   "id": "1290311d-d0e5-4bf2-8d87-7d9aca6a26e5",
   "metadata": {
    "tags": []
   },
   "source": [
    "> <font color='blue'> Répondre ici : "
   ]
  },
  {
   "cell_type": "markdown",
   "id": "e9ec9a11-b7f5-43d5-9383-09b35a8f2699",
   "metadata": {
    "tags": []
   },
   "source": [
    "##### **Question 16 (2 pts) :**\n",
    "Comparer maintenant le master dark de 20 secondes avec le master fond de ciel de 20 secondes, quels sont les différences ? Pourquoi ?"
   ]
  },
  {
   "cell_type": "code",
   "execution_count": null,
   "id": "43ece209-ce29-4703-9023-95a6a70f99aa",
   "metadata": {},
   "outputs": [],
   "source": [
    "# CODE A COMPLETER : afficher sur une même figure le master_dark_20s et le master_fond_de_ciel_20s\n"
   ]
  },
  {
   "cell_type": "markdown",
   "id": "be633756-6b2b-45b0-ae59-354866b3f4e6",
   "metadata": {
    "tags": []
   },
   "source": [
    "> <font color='blue'> Répondre ici : "
   ]
  },
  {
   "cell_type": "markdown",
   "id": "f45af9e2-5dcb-4413-8dc7-48259ff14692",
   "metadata": {},
   "source": [
    "#### **2.2.3 Construction du spectre de champ plat maître ou \"MASTER FLAT\"**"
   ]
  },
  {
   "cell_type": "markdown",
   "id": "80a95097-3712-4772-a2c9-91e641bc81f4",
   "metadata": {},
   "source": [
    "Nous allons maintenant voir comment construire un spectre de champ plat (ou flat-field, que nous appellerons FLAT par la suite) afin d'étalonner la réponse du détecteur. Pour cet exercice nous utiliserons les données qui se trouvent dans le dossier \"exercice2\".\n",
    "<br>\n",
    "Pour rappel, les FLATS sont mesurés pendant les observations à l'aide de la lampe du même nom. Le rôle du FLAT est de corriger l'inhomogénéité des pixels du capteur ainsi que la transmission qui varie en fonction de la longueur d'onde. En théorie, on prend des images d'une source lumineuse uniforme en longueur d'onde et spatialement (sur tout le détecteur). En réalité, la source lumineuse est un corps noir à environ 4000K qui n'est donc pas uniforme en longueur d'onde. Le FLAT aura\n",
    "donc besoin d'être corrigé de ce \"problème\" en le divisant par une courbe de corps noir à 4000K."
   ]
  },
  {
   "cell_type": "code",
   "execution_count": null,
   "id": "a39ee50b-25d8-4a1a-bb24-82080b83f2e9",
   "metadata": {},
   "outputs": [],
   "source": [
    "path = './Data_TP7_CPES2/Exercice2/'\n",
    "file_list = os.listdir(path)"
   ]
  },
  {
   "cell_type": "code",
   "execution_count": null,
   "id": "2a7a6ca3-b2e8-4f0f-93f5-2fbe93e66be7",
   "metadata": {},
   "outputs": [],
   "source": [
    "loaded_files = {}\n",
    "\n",
    "for file_name in file_list:\n",
    "    try:\n",
    "        current_fits = fits.open(path+file_name)[0] # fits.open() renvoie une list de tableaux de données (appelés \"HDU\") contenus dans le fichier FITS. Ici nos fichiers ne contiennent qu'un seul HDU, que l'on sélectionne avec l'indice [0]\n",
    "        loaded_files[file_name] = current_fits      # on stock ici le fichier .fits chargé dans un dictionnaire afin d'y accéder plus facilement par la suite en utilisant le nom du fichier d'origine\n",
    "        print(f'{file_name:<80} has been loaded !')\n",
    "    except Exception as e:                          # En cas d'echec de chargement du fichier, la structure try:... except:... permet d'empêcher au code de planter en affichant l'erreur et en passant au fichier suivant (par exemple si le fichier n'est pas au format .fits)\n",
    "        print(f'Can\\'t load {file_name:<69} {e}')"
   ]
  },
  {
   "cell_type": "code",
   "execution_count": null,
   "id": "ff3e58c6-f6b0-4924-9a6b-0b7ef88fdbc9",
   "metadata": {},
   "outputs": [],
   "source": [
    "# récupération des longueurs d'onde du spectre à partir du header\n",
    "lmin = float(loaded_files['flat_5s_1.fits'].header['CRVAL1']) # longueur d'onde du premier point en nm\n",
    "nb   = int(loaded_files['flat_5s_1.fits'].header['NAXIS1'])   # nombre de canaux d'échantillonnage\n",
    "step = float(loaded_files['flat_5s_1.fits'].header['CD1_1'])  # écart entre deux échantillon en nm\n",
    "\n",
    "wave = np.linspace(lmin-nb*step/2,lmin+nb*step/2,nb)"
   ]
  },
  {
   "cell_type": "markdown",
   "id": "a89e38a3-2479-4460-b74c-ada402fc6f0c",
   "metadata": {
    "tags": []
   },
   "source": [
    "##### **Question 17 (1 pt) :**\n",
    "Quelle formule va-t-on appliquer pour construire le master flat ?\n",
    "<br>\n",
    "**Faire valider la formule par un encadrant avant de passer à la suite.**"
   ]
  },
  {
   "cell_type": "markdown",
   "id": "d7e3f448-7bf6-4d97-b54f-4beb818d9fe0",
   "metadata": {
    "tags": []
   },
   "source": [
    "> <font color='blue'> Répondre ici : "
   ]
  },
  {
   "cell_type": "markdown",
   "id": "7ed25416-92fa-442b-8570-b89178e941fa",
   "metadata": {
    "tags": []
   },
   "source": [
    "##### **Question 18 (1 pt) :**\n",
    "De la même manière que vous avez construit les masters dark en faisant la moyenne de plusieurs darks, construire un flat moyen que vous nommerez *master_flat_5s*.\n",
    "\n",
    "\n"
   ]
  },
  {
   "cell_type": "code",
   "execution_count": null,
   "id": "50558af3-21ac-4aba-bcef-a827b568cc86",
   "metadata": {},
   "outputs": [],
   "source": [
    "# CODE A COMPLETER : calculer le master_flat_5s\n"
   ]
  },
  {
   "cell_type": "code",
   "execution_count": null,
   "id": "c0cac906-9c50-4622-8674-b03f1759d1ac",
   "metadata": {},
   "outputs": [],
   "source": [
    "plt.figure()\n",
    "plt.plot(wave,mean_flat_5s,label='mean_flat_5s')\n",
    "plt.ylabel('Flux (ADU)')\n",
    "plt.xlabel('Wavelength (nm)')\n",
    "plt.title('Flat moyen')\n",
    "plt.legend()"
   ]
  },
  {
   "cell_type": "markdown",
   "id": "ec83a646-8292-429e-95fc-184e9390b77a",
   "metadata": {},
   "source": [
    "**Pourquoi le spectre de flat a t-il cette forme ?**"
   ]
  },
  {
   "cell_type": "markdown",
   "id": "d0d05ea6-5486-450f-b4be-c0018872854d",
   "metadata": {
    "tags": []
   },
   "source": [
    "> <font color='blue'> Répondre ici : "
   ]
  },
  {
   "cell_type": "markdown",
   "id": "27deba88-eb15-499c-9e23-ca986a33b3ae",
   "metadata": {
    "tags": []
   },
   "source": [
    "##### **Question 19 (2 pts) :**\n",
    "Le flat doit être corrigé du dark, cependant les temps de pose pour prendre les flats peuvent être différents de ceux utilisés pour les données scientifiques, il faut donc un master dark spécifique aux flats. La source utilisée pour faire le flat étant un corps noir à 4000K, elle n'est pas spectralement homogène. Il faut donc aussi corriger l'effet du corps noir sur le flat.\n",
    "<br>\n",
    "**Construire le master dark associé au flat moyen puis le master flat corrigé.**"
   ]
  },
  {
   "cell_type": "code",
   "execution_count": null,
   "id": "35021b59-aab5-4d97-b136-189ecc65f0a7",
   "metadata": {},
   "outputs": [],
   "source": [
    "# CODE A COMPLETER : calculer le master_dark_5s\n"
   ]
  },
  {
   "cell_type": "code",
   "execution_count": null,
   "id": "ccfcd6b1-f140-4055-9dfc-1af8c9cfc052",
   "metadata": {},
   "outputs": [],
   "source": [
    "# La taille du tableau du corps noir n'est pas la même que celle des données\n",
    "# On fait donc une interpolation puis on crée un tableau de même taille que nos données\n",
    "\n",
    "CN4000K = loaded_files[\"corps_noir_4000K.fits\"].data\n",
    "\n",
    "# On récupère les information sur le domaine de longueur d'onde dans le header du fichier\n",
    "lrefCN = float(loaded_files['corps_noir_4000K.fits'].header['CRVAL1']) # longueur d'onde de référence en nm\n",
    "nbCN   = int(loaded_files['corps_noir_4000K.fits'].header['NAXIS1'])   # nombre de canaux d'échantillonnage\n",
    "stepCN = float(loaded_files['corps_noir_4000K.fits'].header['CD1_1'])  # écart entre deux échantillon en nm\n",
    "\n",
    "waveCN = np.linspace(lrefCN-nbCN*stepCN/2,lrefCN+nbCN*stepCN/2,nbCN) # Ici le pixel qui sert de référence est au milieu de l'image, \n",
    "# la longueur d'onde minimale est donc lambda_min= lambda_ref - nb_lambda*dlambda/2\n",
    "# de même la longueur d'onde maximale est lambda_max= lambda_ref + nb_lambda*dlambda/2\n",
    "\n",
    "CN4000K_func = interpolate.interp1d(waveCN, CN4000K)\n",
    "\n",
    "CN4000K = CN4000K_func(wave)"
   ]
  },
  {
   "cell_type": "code",
   "execution_count": null,
   "id": "5c346e90-1326-41a2-a44f-6c888d3f8040",
   "metadata": {},
   "outputs": [],
   "source": [
    "# CODE A COMPLETER : calculer le master_flat_5s\n"
   ]
  },
  {
   "cell_type": "markdown",
   "id": "a77c6c88-f2cd-46ec-ada1-698ab81ac47e",
   "metadata": {},
   "source": [
    "**Relever et enregistrer la valeur moyenne du flat moyen. Construire le master flat normalisé et l'enregistrer sous la forme \"nom_prenom_exo2_MASTER_FLAT_NORM.dat\".**"
   ]
  },
  {
   "cell_type": "code",
   "execution_count": null,
   "id": "dd028c5c-058a-4e11-8f56-5a11566fc33d",
   "metadata": {},
   "outputs": [],
   "source": [
    "# CODE A COMPLETER : sauvegarder et afficher la valeur moyenne du flat moyen\n"
   ]
  },
  {
   "cell_type": "markdown",
   "id": "d8909edc-2997-46b9-9546-08d48ac83a88",
   "metadata": {
    "tags": []
   },
   "source": [
    "##### **Question 20 (1 pt) :**\n",
    "Commenter l'allure du master flat normalisé."
   ]
  },
  {
   "cell_type": "code",
   "execution_count": null,
   "id": "39f90a6e-b030-47b2-8d2d-5680f1f33c3b",
   "metadata": {},
   "outputs": [],
   "source": [
    "# CODE A COMPLETER\n"
   ]
  },
  {
   "cell_type": "markdown",
   "id": "8df30331-e3b6-4eed-b6bf-a2a3f6cbf296",
   "metadata": {
    "tags": []
   },
   "source": [
    "> <font color='blue'> Répondre ici : "
   ]
  },
  {
   "cell_type": "markdown",
   "id": "cd0fb66e-a9f5-4d74-afa9-19ee0edb2f65",
   "metadata": {},
   "source": [
    "### **2.3 Mesure de la transmission atmosphérique - Comparaison aux données professionnelles**"
   ]
  },
  {
   "cell_type": "markdown",
   "id": "644467a1-4b2e-42cb-a051-50233cf158ca",
   "metadata": {},
   "source": [
    "Jusqu'à présent nous n'avons pas pris en compte l'impact de l'atmosphère pour réaliser le master flat. Dans cette partie nous allons réduire le spectre d'une étoile : Capella, afin de déterminer la correction à appliquer pour corriger de la transmission atmosphérique : $T_{atmo}$. \n",
    "<br>\n",
    "Pour cela nous allons utiliser un spectre de référence accessible à partir d'un observatoire virtuel."
   ]
  },
  {
   "cell_type": "markdown",
   "id": "4d8c0c2b-f175-4708-a40d-91afa1a112df",
   "metadata": {},
   "source": [
    "#### **2.3.1 Réduction des spectres individuels**"
   ]
  },
  {
   "cell_type": "markdown",
   "id": "eac12a33-2b82-4c0a-a36f-f2c0950b16d5",
   "metadata": {},
   "source": [
    "Dans un premier temps nous allons faire la réduction complète du spectre de l'étoile Capella qui se trouve dans le dossier \"exercice2\"."
   ]
  },
  {
   "cell_type": "markdown",
   "id": "efc82cce-d726-4448-9f40-fbe72b5f5e19",
   "metadata": {
    "tags": []
   },
   "source": [
    "##### **Question 21 (3 pts) :**\n",
    "Effectuer la réduction sur l'étoile Capella (5 spectres individuels *capella_5s_1.fits*, *capella_5s_2.fits*, etc...) en utilisant le master flat normalisé et le bon master dark. \n",
    "<br>\n",
    "Diviser le spectre réduit par le temps d'exposition total (en seconde). \n",
    "<br>\n",
    "Afficher dans une même fenêtre un spectre brut et le spectre réduit.\n",
    "<br>\n",
    "**Comparer le spectre avant et après réduction** (pensez à normaliser vos spectre pour pouvoir les comparer). "
   ]
  },
  {
   "cell_type": "code",
   "execution_count": null,
   "id": "d9d60889-f7e7-4f0a-b49a-3ffe59a22e14",
   "metadata": {},
   "outputs": [],
   "source": [
    "# CODE A COMPLETER : Faire la réduction complète des spectres de capella_5s\n"
   ]
  },
  {
   "cell_type": "code",
   "execution_count": null,
   "id": "618c115c-6cd6-4496-992c-c2a2220a873c",
   "metadata": {},
   "outputs": [],
   "source": [
    "# CODE A COMPLETER : Afficher le spectre réduit et un spectre brut\n"
   ]
  },
  {
   "cell_type": "markdown",
   "id": "52f6d475-2694-4bf5-a655-857ddc82d5d8",
   "metadata": {
    "tags": []
   },
   "source": [
    "> <font color='blue'> Répondre ici : "
   ]
  },
  {
   "cell_type": "markdown",
   "id": "d1a33946-6c04-429f-a087-94e83c119e97",
   "metadata": {
    "tags": []
   },
   "source": [
    "##### **Question 22 (1 pt) :**\n",
    "Enregistrer le spectre réduit en lui donnant comme nom : \n",
    "<br>\n",
    "*nom_prenom_exo2_SPECTRE_CAPELLA_REDUIT.dat*"
   ]
  },
  {
   "cell_type": "code",
   "execution_count": null,
   "id": "e564d49e-31c6-4fb5-809a-dec262a9d3c1",
   "metadata": {},
   "outputs": [],
   "source": [
    "# CODE A COMPLETER : sauvegarder et afficher la valeur moyenne du flat moyen\n"
   ]
  },
  {
   "cell_type": "markdown",
   "id": "aded2b24-a8c9-499c-9ab4-0250522473ba",
   "metadata": {},
   "source": [
    "#### **2.3.2 Détermination de la transmission atmosphérique**"
   ]
  },
  {
   "cell_type": "markdown",
   "id": "14b504f0-21f4-4626-bcb2-70c56022db61",
   "metadata": {},
   "source": [
    "Nous allons maintenant utiliser un spectre professionnel provenant d'une base de données pour étalonner la transmission atmosphérique."
   ]
  },
  {
   "cell_type": "markdown",
   "id": "94eebe94-0ec7-4c23-888f-545cbd2128dc",
   "metadata": {
    "tags": []
   },
   "source": [
    "##### **Question 23 (2.5 pts) :**\n",
    "Afficher le spectre *capella_calib_angstrom*. La résolution du spectre est-elle plus ou moins grande que celle de vos spectres ?\n",
    "<br>\n",
    "**Attention au domaine de longueur d'onde du spectre de calibration qui est différent de celui de vos spectres, ainsi que les unités !** Nommez le nouveau tableau de longueur d'onde *wavecalib*."
   ]
  },
  {
   "cell_type": "code",
   "execution_count": null,
   "id": "ff2108bc-4048-42c5-bff8-3bac58a0458f",
   "metadata": {},
   "outputs": [],
   "source": [
    "# CODE A COMPLETER : Afficher le spectre de calibration de capella\n"
   ]
  },
  {
   "cell_type": "markdown",
   "id": "dce71892-0925-4f88-b8d3-ddca7263f4c6",
   "metadata": {
    "tags": []
   },
   "source": [
    "> <font color='blue'> Répondre ici : "
   ]
  },
  {
   "cell_type": "markdown",
   "id": "5bfdd89a-e21e-453b-83bf-06b6634fc753",
   "metadata": {
    "tags": []
   },
   "source": [
    "##### **Question 24 (1 pt) :**\n",
    "Comment peut-on obtenir $T_{atmo}$ à partir de votre spectre réduit et du spectre de calibration ?\n",
    "<br>\n",
    "**Faire valider votre méthodologie par un encadrant.**\n",
    "<br>\n",
    "Calculer puis afficher la transmission atmosphérique $T_{atmo}$ en fonction de la longueur d'onde jusqu'à 750 nm."
   ]
  },
  {
   "cell_type": "code",
   "execution_count": null,
   "id": "f4ce8410-fd41-4d40-ac12-cc6f4335d6c8",
   "metadata": {},
   "outputs": [],
   "source": [
    "# On fait une interpolation de notre spectre de calibration pour que l'on calcul les points sur notre plage de longueur d'onde.\n",
    "capella_calib_func = interpolate.interp1d(wavecalib,capella_calib)\n",
    "\n",
    "# On détermine l'indice du tableau wave le plus proche qui correspond la longueur d'onde 750 nm.\n",
    "# On se limite à 750 nm car le spectre de calibration ne va pas aussi loin en longueur d'onde que nos spectres\n",
    "# et que les données du spectre de référence sont abérrantes au dessus de 750 nm.\n",
    "ind_750 = np.argmin(np.abs(wave-750.))\n",
    "new_capella_calib = capella_calib_func(wave[:ind_750])"
   ]
  },
  {
   "cell_type": "code",
   "execution_count": null,
   "id": "0baa6228-453a-4384-9f31-9ce0f75d32cd",
   "metadata": {},
   "outputs": [],
   "source": [
    "# CODE A COMPLETER : Calculer et afficher T_atmo\n"
   ]
  },
  {
   "cell_type": "markdown",
   "id": "547aff11-1929-4054-b189-44477bceeed0",
   "metadata": {
    "tags": []
   },
   "source": [
    "> <font color='blue'> Répondre ici : "
   ]
  },
  {
   "cell_type": "markdown",
   "id": "931bec31-a1d0-42cb-a0c6-638090b9ae42",
   "metadata": {
    "tags": []
   },
   "source": [
    "##### **Question 25 (1.5 pts) :**\n",
    "Commenter la figure obtenue."
   ]
  },
  {
   "cell_type": "markdown",
   "id": "bd2744c4-d542-467b-9565-355752997927",
   "metadata": {
    "tags": []
   },
   "source": [
    "> <font color='blue'> Répondre ici : "
   ]
  },
  {
   "cell_type": "markdown",
   "id": "d5db4122-e016-4586-8830-d29fab8037e2",
   "metadata": {
    "tags": []
   },
   "source": [
    "##### **Question 26 (1 pt) :**\n",
    "Enregistrer cette estimation de la transmission atmosphérique sous le nom *nom_prenom_exo2_T_atmo.dat*."
   ]
  },
  {
   "cell_type": "code",
   "execution_count": null,
   "id": "169414bd-b703-4d8d-b310-3295ef6c1484",
   "metadata": {},
   "outputs": [],
   "source": [
    "# CODE A COMPLETER : sauvegarder et afficher la valeur moyenne du flat moyen\n"
   ]
  },
  {
   "cell_type": "markdown",
   "id": "f74057d6-30d5-4799-8dbf-09bfdad0e91a",
   "metadata": {},
   "source": [
    "#### **2.3.3 Exploitation du spectre**"
   ]
  },
  {
   "cell_type": "markdown",
   "id": "9146ce95-b98d-4f27-9a79-aaf1ae581913",
   "metadata": {},
   "source": [
    "Nous allons maintenant analyser le spectre de Capella réduit et en déduire certaines propriétes. Pour être plus précis, il faudrait corriger vos spectres de la transmission atmosphérique ce que nous n'allons pas faire ici."
   ]
  },
  {
   "cell_type": "markdown",
   "id": "aa59d666-4454-4d08-943a-0af70a4498ea",
   "metadata": {},
   "source": [
    "**Température de Capella**"
   ]
  },
  {
   "cell_type": "markdown",
   "id": "ddf63d1f-9289-467c-949a-decff81ef492",
   "metadata": {},
   "source": [
    "Le rayonnement des étoiles est décrit par ce que l'on appelle un corps noir en physique,\n",
    "c'est-à-dire un corps qui émet infiniment moins qu'il n'absorbe d'énergie. Ainsi, la forme d'un\n",
    "spectre est d'abord déterminée par la température de l'objet. La loi de Wien donne la variation\n",
    "du rayonnement d'un corps noir en fonction de la longueur d'onde. Une formule dérivée de cette\n",
    "loi permet de relier la température ($T$) d'un objet à la longueur d'onde où le maximum du\n",
    "rayonnement est émis ($\\lambda_{max}$) :\n",
    "\n",
    "\\begin{equation}\n",
    "    \\label{eq_2} \\tag{2}\n",
    "    T \\times \\lambda_{max} = 2,898 \\cdot 10^{-3} \\text{[SI]}\n",
    "\\end{equation} "
   ]
  },
  {
   "cell_type": "markdown",
   "id": "c25b32f0-07ba-4299-9e4e-8f0acfd8aaf2",
   "metadata": {
    "tags": []
   },
   "source": [
    "##### **Question 27 (1 pt) :**\n",
    "Quel est l'unité de la constante $2,898 \\cdot 10^{-3}$, aussi appelée constante de Wien ?"
   ]
  },
  {
   "cell_type": "markdown",
   "id": "680d183e-909d-4ad6-ac3c-1c34950254cc",
   "metadata": {
    "tags": []
   },
   "source": [
    "> <font color='blue'> Répondre ici : "
   ]
  },
  {
   "cell_type": "markdown",
   "id": "84cf4d15-3eaf-4e87-9702-e81a321858c1",
   "metadata": {
    "tags": []
   },
   "source": [
    "##### **Question 28 (2 pts) :**\n",
    "Déterminer à quelle longueur d'onde est le maximum du spectre avec ses incertitudes. Estimer une température pour Capella ainsi que son type spectral en vous aidant de la figure 1 ci dessous."
   ]
  },
  {
   "cell_type": "markdown",
   "id": "4fdc5ab4-cece-47e5-932b-f4081b1f3923",
   "metadata": {},
   "source": [
    "**Les types spectraux des étoiles en fonction de leur température.**\n",
    "![alt text](ressources/classe-spectrale-etoiles.jpg \"Les types spectraux des étoiles en fonction de leur température.\")\n",
    "\n",
    "Phrase mnémotechnique pour se souvenir des types spectraux : \" **O**h **B**e **A** **F**ine **G**irl/**G**uy,**K**iss **M**e\" !\n",
    "\n",
    "**Courbes de corps noir en fonction de la longueur d'onde pour plusieurs températures.**\n",
    "![alt text](ressources/Blackbody_emission.png \"Courbes de corps noir en fonction de la longueur d'onde pour plusieurs températures.\")\n"
   ]
  },
  {
   "cell_type": "markdown",
   "id": "9a327c6c-845a-4846-9cbd-8f4c4a4493e8",
   "metadata": {
    "tags": []
   },
   "source": [
    "> <font color='blue'> Répondre ici : "
   ]
  },
  {
   "cell_type": "markdown",
   "id": "544939da-f706-41f8-acdc-4682e1aefe99",
   "metadata": {},
   "source": [
    "**identification de raies**"
   ]
  },
  {
   "cell_type": "markdown",
   "id": "b70ef624-02a2-4e39-a030-819578191216",
   "metadata": {},
   "source": [
    "On peut aussi identifier quelques raies typiques de ce type d'étoiles.\n",
    "<br>Afficher sur une même figure votre spectre réduit ainsi que l'identification des raies contenue dans *PSL.ids*."
   ]
  },
  {
   "cell_type": "code",
   "execution_count": null,
   "id": "54f0d3c5-52ad-4d83-a9c7-27d27ecc40ea",
   "metadata": {},
   "outputs": [],
   "source": [
    "# lecture des listes de raies et remplissage du dictionnaire\n",
    "\n",
    "raies_list = [] # liste contenant les raies du fichier 'PSL.ids' sous la forme ['element','position']\n",
    "\n",
    "with open('./Data_TP7_CPES2/Exercice2/PSL.ids','r') as f:\n",
    "    for line in f.readlines()[10:]:\n",
    "        # skip 10 first lines\n",
    "        try:\n",
    "            elements = line.replace('\\t',' ').replace('*','').split(' ')\n",
    "            element_name = elements[-1].replace('\\n','')\n",
    "            element_pos  = float(elements[0])\n",
    "            raies_list.append([element_name,element_pos]) \n",
    "        except Exception as e:\n",
    "            print(e)"
   ]
  },
  {
   "cell_type": "code",
   "execution_count": null,
   "id": "8e97d082-af76-49fa-8c59-4e5350a5adbf",
   "metadata": {},
   "outputs": [],
   "source": [
    "# CODE A COMPLETER\n"
   ]
  },
  {
   "cell_type": "markdown",
   "id": "0fd1b0bc-a6e8-48db-9d03-33dd47707315",
   "metadata": {
    "tags": []
   },
   "source": [
    "##### **Question 29 (2 pts) :**\n",
    "Identifier les raies les plus importantes, de quelles espèces chimiques proviennent-elles ?"
   ]
  },
  {
   "cell_type": "markdown",
   "id": "64b8d7d7-224b-4887-8ba0-b97cc9de5aa5",
   "metadata": {
    "tags": []
   },
   "source": [
    "> <font color='blue'> Répondre ici : "
   ]
  },
  {
   "cell_type": "markdown",
   "id": "ad7b83d8-a209-402b-a2b4-8d8e745cb082",
   "metadata": {
    "tags": []
   },
   "source": [
    "##### **Question 30 (1 pt) :**\n",
    "A votre avis d'où proviennent-elles ?"
   ]
  },
  {
   "cell_type": "markdown",
   "id": "99b1f8a9-a795-4a11-a20e-0f91de88395d",
   "metadata": {
    "tags": []
   },
   "source": [
    "> <font color='blue'> Répondre ici : "
   ]
  },
  {
   "cell_type": "markdown",
   "id": "0cf6dcfd-4027-4c6f-b431-acb202783188",
   "metadata": {},
   "source": [
    "## **Conclusion**"
   ]
  },
  {
   "cell_type": "markdown",
   "id": "4db9c0db-9f33-4f57-86fb-ec6adaf8a959",
   "metadata": {},
   "source": [
    "> <font color='blue'> Répondre ici : "
   ]
  }
 ],
 "metadata": {
  "kernelspec": {
   "display_name": "Python 3 (ipykernel)",
   "language": "python",
   "name": "python3"
  },
  "language_info": {
   "codemirror_mode": {
    "name": "ipython",
    "version": 3
   },
   "file_extension": ".py",
   "mimetype": "text/x-python",
   "name": "python",
   "nbconvert_exporter": "python",
   "pygments_lexer": "ipython3",
   "version": "3.10.6"
  }
 },
 "nbformat": 4,
 "nbformat_minor": 5
}
